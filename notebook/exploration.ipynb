{
 "nbformat": 4,
 "nbformat_minor": 2,
 "metadata": {
  "language_info": {
   "name": "python",
   "codemirror_mode": {
    "name": "ipython",
    "version": 3
   },
   "version": "3.7.6-final"
  },
  "orig_nbformat": 2,
  "file_extension": ".py",
  "mimetype": "text/x-python",
  "name": "python",
  "npconvert_exporter": "python",
  "pygments_lexer": "ipython3",
  "version": 3,
  "kernelspec": {
   "name": "python37664bittestpipelinecondaed5a294f86614f73a00cf1eb33fd1377",
   "display_name": "Python 3.7.6 64-bit ('test_pipeline': conda)"
  }
 },
 "cells": [
  {
   "cell_type": "code",
   "execution_count": null,
   "metadata": {},
   "outputs": [],
   "source": [
    "import re\n",
    "from datetime import datetime\n",
    "from pyspark.sql import Window\n",
    "from pyspark.sql.types import *\n",
    "from pyspark.sql.functions import lit\n",
    "import pyspark.sql.functions as fn\n",
    "from pyspark.sql.functions import col\n",
    "from pyspark import SparkContext, SparkConf, SQLContext\n",
    "from pgcopy import CopyManager\n",
    "import psycopg2"
   ]
  },
  {
   "cell_type": "code",
   "execution_count": null,
   "metadata": {},
   "outputs": [],
   "source": [
    "# Iniciar spark context\n",
    "conf = SparkConf().setMaster('local[*]')\n",
    "sc = SparkContext().getOrCreate(conf)\n",
    "sqlc =  SQLContext(sc)"
   ]
  },
  {
   "cell_type": "code",
   "execution_count": null,
   "metadata": {},
   "outputs": [],
   "source": [
    "#Function to parse data from pageviews file\n",
    "def parseLog(data):\n",
    "        ''' Read and parse log data '''\n",
    "        RE_MASK = '(.*) - \\[(.*)\\] \"(.*)\" ([0-9]*) (.*) \\| (.*): (.*) \\| (.*): (http://www.facebook.com|http://google.com.br)'\n",
    "\n",
    "        try:\n",
    "            re_result = re.compile(RE_MASK).match(data)\n",
    "            host = re_result.group(1)\n",
    "            dateview = datetime.strptime(re_result.group(2),\"%Y-%m-%d %H:%M:%S\")\n",
    "            page_url = re_result.group(5)\n",
    "            device_id = str(re_result.group(7))\n",
    "            referer = str(re_result.group(9))\n",
    "            \n",
    "            try:\n",
    "                if referer==\"http://www.facebook.com\":\n",
    "                    campaign_id = re.search('campaign_id=?([0-9]*)', re_result.group(5)).group(1)\n",
    "                elif referer==\"http://google.com.br\":\n",
    "                    campaign_id = re.search('campaign_id=([0-9]*)', re_result.group(5)).group(1)\n",
    "            \n",
    "                campaign_id = int(campaign_id)\n",
    "\n",
    "            except Exception as e:\n",
    "                campaign_id = None\n",
    "\n",
    "            try:\n",
    "                if referer==\"http://www.facebook.com\":\n",
    "                    ad_creative_id=None\n",
    "                elif referer==\"http://google.com.br\":\n",
    "                    ad_creative_id = re.search('ad_creative_id=([0-9]*)', re_result.group(5)).group(1)\n",
    "                    ad_creative_id = int(ad_creative_id)\n",
    "        \n",
    "            except Exception as e:\n",
    "                ad_creative_id = None\n",
    "        \n",
    "            return host, dateview, page_url, device_id, referer, campaign_id, ad_creative_id\n",
    "        \n",
    "        except Exception as e:\n",
    "            return '', -1, '', -1, -1"
   ]
  },
  {
   "cell_type": "code",
   "execution_count": null,
   "metadata": {},
   "outputs": [],
   "source": [
    "# Declaração do Schema de dados a ser utilizado - Pageview\n",
    "pageview_schema = StructType([StructField('host',StringType(), True),StructField('dateview',TimestampType(), True),StructField('page_url',StringType(), True),StructField('device_id',StringType(), True), StructField('referer',StringType(), True), StructField('campaign_id',StringType(), True), StructField('ad_creative_id',IntegerType(), True)])"
   ]
  },
  {
   "cell_type": "code",
   "execution_count": null,
   "metadata": {},
   "outputs": [],
   "source": [
    "# Create dataframes - Facebook\n",
    "facebook_ads = sqlc.read.json('../data/datasets/facebook_ads_media_costs.jsonl').select(col('clicks'), col('cost'), col('date'), col('facebook_campaign_id').alias('campaign_id'), col('facebook_campaign_name').alias('campaign_name'), col('impressions'))\n",
    "facebook_ads= facebook_ads.withColumn('ad_creative_id', lit(0)).withColumn('ad_creative_name', lit(None).cast(StringType())).withColumn('source', lit(str('facebook')))\n",
    "\n",
    "# Create dataframes - google\n",
    "google_ads = sqlc.read.json('../data/datasets/google_ads_media_costs.jsonl').select(col('clicks'), col('cost'), col('date'), col('google_campaign_id').alias('campaign_id'), col('google_campaign_name').alias('campaign_name'), col('impressions'), col('ad_creative_id'), col('ad_creative_name'))\n",
    "google_ads = google_ads.withColumn('source', lit(str('google')))\n",
    "\n",
    "# Merge Google and Facebook into a unique Dataframe\n",
    "media_ads = google_ads.union(facebook_ads)"
   ]
  },
  {
   "cell_type": "code",
   "execution_count": null,
   "metadata": {},
   "outputs": [],
   "source": [
    "# Create Schema for Customer Leads\n",
    "schema = StructType([StructField(\"device_id\", StringType(), True), StructField(\"lead_id\", IntegerType(), True), StructField(\"registered_at\", TimestampType(), True), StructField(\"credit_decision\", StringType(), True), StructField(\"credit_decision_at\", TimestampType(), True), StructField(\"signed_at\", TimestampType(), True), StructField(\"revenue\", FloatType(), True)])\n",
    "\n",
    "# Create dataframe - Customer_leads\n",
    "customer_leads = sqlc.read.load(\"../data/datasets/customer_leads_funnel.csv\", header=False, format='com.databricks.spark.csv', schema=schema)"
   ]
  },
  {
   "cell_type": "code",
   "execution_count": null,
   "metadata": {},
   "outputs": [],
   "source": [
    "# Create Structure for pageviews and filter pages with referer google and facebook\n",
    "pageviews_raw = sc.textFile('../data/datasets/pageview.txt')\n",
    "pageviews_data = pageviews_raw.map(parseLog).filter(lambda x: x[1]!=-1)\n",
    "pageviews = sqlc.createDataFrame(pageviews_data, pageview_schema)"
   ]
  },
  {
   "cell_type": "code",
   "execution_count": null,
   "metadata": {},
   "outputs": [],
   "source": [
    "media_ads.select('*').show(2,True)"
   ]
  },
  {
   "cell_type": "code",
   "execution_count": null,
   "metadata": {},
   "outputs": [],
   "source": [
    "# Answer questions\n",
    "\n",
    "# What was the most expensive campaign?\n",
    "expensive_campaign = media_ads.select('*').groupby('campaign_id', 'source').agg(fn.sum('cost').alias('cost')).orderBy('campaign_id').limit(1).show()"
   ]
  },
  {
   "cell_type": "code",
   "execution_count": null,
   "metadata": {},
   "outputs": [],
   "source": [
    "# What was the most profitable campaign?\n",
    "profitable = pageviews.join(customer_leads, pageviews.device_id == customer_leads.device_id)\n",
    "result_profitable = profitable.groupBy('campaign_id').agg(fn.sum('revenue').alias('total_revenue')).where(col('campaign_id').isNotNull()).orderBy('total_revenue', ascending=False).limit(1).show()"
   ]
  },
  {
   "cell_type": "code",
   "execution_count": null,
   "metadata": {},
   "outputs": [],
   "source": [
    "# Which ad creative is the most effective in terms of clicks?\n",
    "clicks_sum = media_ads.groupBy('ad_creative_id', 'ad_creative_name').agg(fn.sum('clicks').alias('total_clicks')).orderBy('total_clicks', ascending=False).limit(1).show()"
   ]
  },
  {
   "cell_type": "code",
   "execution_count": null,
   "metadata": {},
   "outputs": [],
   "source": [
    "# media_ads.groupBy('campaign_id','source').count().orderBy('campaign_id').show()\n",
    "print(result_profitable)\n",
    "# What was the most expensive campaign?\n",
    "media_ads.groupBy('campaign_id').agg(fn.sum('cost').alias('Campaign_cost')).orderBy('Campaign_cost').show()"
   ]
  },
  {
   "cell_type": "code",
   "execution_count": null,
   "metadata": {},
   "outputs": [],
   "source": [
    "pageviews.select('*').show(2, True)"
   ]
  },
  {
   "cell_type": "code",
   "execution_count": null,
   "metadata": {},
   "outputs": [],
   "source": [
    "# Start connection to database\n",
    "conn = psycopg2.connect(\n",
    "    host = 'localhost',\n",
    "    port = '5432',\n",
    "    database = 'creditas',\n",
    "    user = 'denniscardoso'\n",
    ")\n",
    "\n",
    "# Start Cursor\n",
    "cur = conn.cursor()"
   ]
  },
  {
   "cell_type": "code",
   "execution_count": null,
   "metadata": {},
   "outputs": [],
   "source": [
    "# create table on creditas database\n",
    "def create_table(cursor, query):\n",
    "    conn = psycopg2.connect(\n",
    "        host = 'localhost',\n",
    "        port = '5432',\n",
    "        database = 'creditas',\n",
    "        user = 'denniscardoso'\n",
    "    )\n",
    "    \n",
    "    command = open(query, 'r').read()\n",
    "    cursor.execute(command)\n",
    "    conn.commit()\n",
    "    cursor.close()\n",
    "\n",
    "# Create media_ads table\n",
    "create_table(cur, '../scripts/media_ads.sql')\n",
    "\n",
    "# Create pageview table\n",
    "create_table(cur, \"../scripts/pageview.sql\")\n",
    "\n",
    "# Create Customer Leads table\n",
    "create_table(cur, \"../scripts/customer_leads.sql\")"
   ]
  },
  {
   "cell_type": "code",
   "execution_count": null,
   "metadata": {},
   "outputs": [],
   "source": [
    "# Start conn variable\n",
    "conn = psycopg2.connect(\n",
    "        host = 'localhost',\n",
    "        port = '5432',\n",
    "        database = 'creditas',\n",
    "        user = 'denniscardoso'\n",
    "    )\n",
    "\n",
    "# Start Cursor\n",
    "cur = conn.cursor()\n",
    "\n",
    "def append_to_table(row):\n",
    "    cursor.execute(\"INSERT INTO media_ads (clicks, cost, date, campaign_id, campaign_name, impressions, ad_creative_id, ad_creative_name, source) VALUES(%s, %s,%s, %s,%s, %s,%s, %s, %s)\", (row.clicks, row.cost, row.date, row.campaign_id, row.campaign_name, row.impressions, row.ad_creative_id, row.ad_creative_name, row.source))"
   ]
  }
 ]
}