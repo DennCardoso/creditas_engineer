{
 "nbformat": 4,
 "nbformat_minor": 2,
 "metadata": {
  "language_info": {
   "name": "python",
   "codemirror_mode": {
    "name": "ipython",
    "version": 3
   },
   "version": "3.7.6-final"
  },
  "orig_nbformat": 2,
  "file_extension": ".py",
  "mimetype": "text/x-python",
  "name": "python",
  "npconvert_exporter": "python",
  "pygments_lexer": "ipython3",
  "version": 3,
  "kernelspec": {
   "name": "python37664bittestpipelinecondaed5a294f86614f73a00cf1eb33fd1377",
   "display_name": "Python 3.7.6 64-bit ('test_pipeline': conda)"
  }
 },
 "cells": [
  {
   "cell_type": "code",
   "execution_count": null,
   "metadata": {},
   "outputs": [],
   "source": [
    "import re\n",
    "from datetime import datetime\n",
    "from pyspark.sql import Window\n",
    "from pyspark.sql.types import *\n",
    "from pyspark.sql.functions import lit\n",
    "import pyspark.sql.functions as functions\n",
    "from pyspark.sql.functions import col\n",
    "from pyspark import SparkContext, SparkConf, SQLContext"
   ]
  },
  {
   "cell_type": "code",
   "execution_count": null,
   "metadata": {},
   "outputs": [],
   "source": [
    "# Iniciar spark context\n",
    "conf = SparkConf().setMaster('local[*]')\n",
    "sc = SparkContext().getOrCreate(conf)\n",
    "sqlc =  SQLContext(sc)"
   ]
  },
  {
   "cell_type": "code",
   "execution_count": null,
   "metadata": {},
   "outputs": [],
   "source": [
    "#Função que retorna String a partir de uma data (ordinal)\n",
    "def str_date(input_date):\n",
    "        try:\n",
    "            return datetime.fromordinal(input_date).strftime('%d-%m-%Y')\n",
    "        except Exception as e:\n",
    "            return '01/01/1900'"
   ]
  },
  {
   "cell_type": "code",
   "execution_count": 347,
   "metadata": {},
   "outputs": [],
   "source": [
    "#Function to parse data from pageviews file\n",
    "def parseLog(data):\n",
    "        ''' Read and parse log data '''\n",
    "        RE_MASK = '(.*) - \\[(.*)\\] \"(.*)\" ([0-9]*) (.*) \\| (.*): (.*) \\| (.*): (http://www.facebook.com|http://google.com.br)'\n",
    "\n",
    "        try:\n",
    "            re_result = re.compile(RE_MASK).match(data)\n",
    "            host = re_result.group(1)\n",
    "            dateview = datetime.strptime(re_result.group(2),\"%Y-%m-%d %H:%M:%S\")\n",
    "            page_url = re_result.group(5)\n",
    "            device_id = str(re_result.group(7))\n",
    "            referer = str(re_result.group(9))\n",
    "            \n",
    "            try:\n",
    "                if referer==\"http://www.facebook.com\":\n",
    "                    campaign_id = re.search('campaign_id=?([0-9]*)', re_result.group(5)).group(1)\n",
    "                elif referer==\"http://google.com.br\":\n",
    "                    campaign_id = re.search('campaign_id=([0-9]*)', re_result.group(5)).group(1)\n",
    "            \n",
    "                campaign_id = int(campaign_id)\n",
    "\n",
    "            except AttributeError as e:\n",
    "                campaign_id = None\n",
    "\n",
    "            try:\n",
    "                if referer==\"http://www.facebook.com\":\n",
    "                    ad_creative_id=None\n",
    "                elif referer==\"http://google.com.br\":\n",
    "                    ad_creative_id = re.search('ad_creative_id=([0-9]*)', re_result.group(5)).group(1)\n",
    "                    ad_creative_id = int(ad_creative_id)\n",
    "        \n",
    "            except AttributeError as e:\n",
    "                ad_creative_id = None\n",
    "        \n",
    "            return host, dateview, page_url, device_id, referer, campaign_id, ad_creative_id\n",
    "        \n",
    "        except Exception as e:\n",
    "            return '', -1, '', -1, -1"
   ]
  },
  {
   "cell_type": "code",
   "execution_count": null,
   "metadata": {},
   "outputs": [],
   "source": [
    "# Declaração do Schema de dados a ser utilizado - Pageview\n",
    "pageview_schema = StructType([StructField('host',StringType(), True),StructField('dateview',TimestampType(), True),StructField('page_url',StringType(), True),StructField('device_id',StringType(), True), StructField('referer',StringType(), True), StructField('campaign_id',StringType(), True), StructField('ad_creative_id',IntegerType(), True)])"
   ]
  },
  {
   "cell_type": "code",
   "execution_count": null,
   "metadata": {},
   "outputs": [],
   "source": [
    "# Create dataframes - Facebook\n",
    "facebook_ads = sqlc.read.json('../data/datasets/facebook_ads_media_costs.jsonl').select(col('clicks'), col('cost'), col('date'), col('facebook_campaign_id').alias('campaign_id'), col('facebook_campaign_name').alias('campaign_name'), col('impressions'))\n",
    "facebook_ads= facebook_ads.withColumn('ad_creative_id', lit(0)).withColumn('ad_creative_name', lit(None).cast(StringType())).withColumn('source', lit(str('facebook')))\n",
    "\n",
    "# Create dataframes - google\n",
    "google_ads = sqlc.read.json('../data/datasets/google_ads_media_costs.jsonl').select(col('clicks'), col('cost'), col('date'), col('google_campaign_id').alias('campaign_id'), col('google_campaign_name').alias('campaign_name'), col('impressions'), col('ad_creative_id'), col('ad_creative_name'))\n",
    "google_ads = google_ads.withColumn('source', lit(str('google')))\n",
    "\n",
    "# Merge Google and Facebook into a unique Dataframe\n",
    "media_ads = google_ads.union(facebook_ads)"
   ]
  },
  {
   "cell_type": "code",
   "execution_count": null,
   "metadata": {},
   "outputs": [],
   "source": [
    "# Create Schema for Customer Leads\n",
    "schema = StructType([StructField(\"device_id\", StringType(), True), StructField(\"lead_id\", IntegerType(), True), StructField(\"registered_at\", TimestampType(), True), StructField(\"credit_decision\", StringType(), True), StructField(\"credit_decision_at\", TimestampType(), True), StructField(\"signed_at\", TimestampType(), True), StructField(\"revenue\", FloatType(), True)])\n",
    "\n",
    "# Create dataframe - Customer_leads\n",
    "customer_leads = sqlc.read.load(\"../data/datasets/customer_leads_funnel.csv\", header=False, format='com.databricks.spark.csv', schema=schema)"
   ]
  },
  {
   "cell_type": "code",
   "execution_count": 348,
   "metadata": {},
   "outputs": [
    {
     "data": {
      "text/plain": "[('169.252.180.145',\n  datetime.datetime(2018, 10, 1, 0, 0),\n  'http://www.creditas.com.br/emprestimo?campaign_id=3004',\n  'g7DDoCqp9V',\n  'http://www.facebook.com',\n  3004,\n  None),\n ('172.168.121.39',\n  datetime.datetime(2018, 10, 1, 0, 0, 31),\n  'http://www.creditas.com.br/emprestimo',\n  'g7DDoCqp9V',\n  'http://www.facebook.com',\n  None,\n  None),\n ('172.7.71.202',\n  datetime.datetime(2018, 10, 1, 0, 5),\n  'http://www.creditas.com.br/conversion?campaign_id=3002',\n  '51h1W7wrS8',\n  'http://www.facebook.com',\n  3002,\n  None),\n ('192.166.174.68',\n  datetime.datetime(2018, 10, 1, 0, 5, 17),\n  'http://www.creditas.com.br/sobre',\n  '51h1W7wrS8',\n  'http://www.facebook.com',\n  None,\n  None),\n ('169.242.90.99',\n  datetime.datetime(2018, 10, 1, 0, 5, 54),\n  'http://www.bankfacil.com.br/emprestimo-com-garantia',\n  '51h1W7wrS8',\n  'http://www.facebook.com',\n  None,\n  None),\n ('203.0.120.90',\n  datetime.datetime(2018, 10, 1, 0, 5, 59),\n  'http://www.creditas.com.br/conversion',\n  '51h1W7wrS8',\n  'http://www.facebook.com',\n  None,\n  None),\n ('192.172.26.29',\n  datetime.datetime(2018, 10, 1, 0, 6, 14),\n  'http://www.creditas.com.br/emprestimo',\n  '51h1W7wrS8',\n  'http://www.facebook.com',\n  None,\n  None),\n ('198.176.9.146',\n  datetime.datetime(2018, 10, 1, 0, 10),\n  'http://www.creditas.com.br/emprestimo?ad_creative_id=20001&campaign_id=1003',\n  '5KFsdVoTOo',\n  'http://google.com.br',\n  1003,\n  20001),\n ('185.21.238.199',\n  datetime.datetime(2018, 10, 1, 0, 10, 37),\n  'http://www.bankfacil.com.br/emprestimo-com-garantia',\n  '5KFsdVoTOo',\n  'http://google.com.br',\n  None,\n  None),\n ('27.121.35.173',\n  datetime.datetime(2018, 10, 1, 0, 11, 33),\n  'http://www.creditas.com.br',\n  '5KFsdVoTOo',\n  'http://google.com.br',\n  None,\n  None),\n ('97.253.105.201',\n  datetime.datetime(2018, 10, 1, 0, 15),\n  'http://www.creditas.com.br/emprestimo?ad_creative_id=20003&campaign_id=1001',\n  '0GGtWBPUOB',\n  'http://google.com.br',\n  1001,\n  20003),\n ('170.137.253.2',\n  datetime.datetime(2018, 10, 1, 0, 15, 11),\n  'http://www.bankfacil.com.br/emprestimo-com-garantia',\n  '0GGtWBPUOB',\n  'http://google.com.br',\n  None,\n  None),\n ('86.126.242.48',\n  datetime.datetime(2018, 10, 1, 0, 15, 48),\n  'http://www.creditas.com.br/emprestimo',\n  '0GGtWBPUOB',\n  'http://google.com.br',\n  None,\n  None),\n ('203.0.112.19',\n  datetime.datetime(2018, 10, 1, 0, 15, 58),\n  'http://www.creditas.com.br/sobre',\n  '0GGtWBPUOB',\n  'http://google.com.br',\n  None,\n  None),\n ('198.98.138.63',\n  datetime.datetime(2018, 10, 1, 0, 16, 23),\n  'http://www.creditas.com.br',\n  '0GGtWBPUOB',\n  'http://google.com.br',\n  None,\n  None),\n ('198.220.64.132',\n  datetime.datetime(2018, 10, 1, 0, 20),\n  'http://www.creditas.com.br/conversion?ad_creative_id=20005&campaign_id=1004',\n  'etkkhNRp99',\n  'http://google.com.br',\n  1004,\n  20005),\n ('169.255.128.226',\n  datetime.datetime(2018, 10, 1, 0, 20, 49),\n  'http://www.creditas.com.br',\n  'etkkhNRp99',\n  'http://google.com.br',\n  None,\n  None),\n ('192.88.98.28',\n  datetime.datetime(2018, 10, 1, 0, 30),\n  'http://www.creditas.com.br/emprestimo?ad_creative_id=20001&campaign_id=1009',\n  '6GGVJjrNKI',\n  'http://google.com.br',\n  1009,\n  20001),\n ('192.108.172.156',\n  datetime.datetime(2018, 10, 1, 1, 0),\n  'http://www.creditas.com.br/emprestimo?campaign_id=3003',\n  '9gG857ACGf',\n  'http://www.facebook.com',\n  3003,\n  None),\n ('13.144.238.116',\n  datetime.datetime(2018, 10, 1, 1, 0),\n  'http://www.creditas.com.br?campaign_id=3004',\n  'd64DJeFfYr',\n  'http://www.facebook.com',\n  3004,\n  None)]"
     },
     "execution_count": 348,
     "metadata": {},
     "output_type": "execute_result"
    }
   ],
   "source": [
    "# Create Structure for pageviews and filter pages with referer google and facebook\n",
    "pageviews_raw = sc.textFile('../data/datasets/pageview.txt')\n",
    "pageviews_data = pageviews_raw.map(parseLog).filter(lambda x: x[1]!=-1)\n",
    "pageviews_data.take(20)"
   ]
  },
  {
   "cell_type": "code",
   "execution_count": 349,
   "metadata": {},
   "outputs": [
    {
     "name": "stdout",
     "output_type": "stream",
     "text": "+---------------+-------------------+---------------------------------------------------------------------------+----------+-----------------------+-----------+--------------+\n|host           |dateview           |page_url                                                                   |device_id |referer                |campaign_id|ad_creative_id|\n+---------------+-------------------+---------------------------------------------------------------------------+----------+-----------------------+-----------+--------------+\n|169.252.180.145|2018-10-01 00:00:00|http://www.creditas.com.br/emprestimo?campaign_id=3004                     |g7DDoCqp9V|http://www.facebook.com|3004       |null          |\n|172.168.121.39 |2018-10-01 00:00:31|http://www.creditas.com.br/emprestimo                                      |g7DDoCqp9V|http://www.facebook.com|null       |null          |\n|172.7.71.202   |2018-10-01 00:05:00|http://www.creditas.com.br/conversion?campaign_id=3002                     |51h1W7wrS8|http://www.facebook.com|3002       |null          |\n|192.166.174.68 |2018-10-01 00:05:17|http://www.creditas.com.br/sobre                                           |51h1W7wrS8|http://www.facebook.com|null       |null          |\n|169.242.90.99  |2018-10-01 00:05:54|http://www.bankfacil.com.br/emprestimo-com-garantia                        |51h1W7wrS8|http://www.facebook.com|null       |null          |\n|203.0.120.90   |2018-10-01 00:05:59|http://www.creditas.com.br/conversion                                      |51h1W7wrS8|http://www.facebook.com|null       |null          |\n|192.172.26.29  |2018-10-01 00:06:14|http://www.creditas.com.br/emprestimo                                      |51h1W7wrS8|http://www.facebook.com|null       |null          |\n|198.176.9.146  |2018-10-01 00:10:00|http://www.creditas.com.br/emprestimo?ad_creative_id=20001&campaign_id=1003|5KFsdVoTOo|http://google.com.br   |1003       |20001         |\n|185.21.238.199 |2018-10-01 00:10:37|http://www.bankfacil.com.br/emprestimo-com-garantia                        |5KFsdVoTOo|http://google.com.br   |null       |null          |\n|27.121.35.173  |2018-10-01 00:11:33|http://www.creditas.com.br                                                 |5KFsdVoTOo|http://google.com.br   |null       |null          |\n+---------------+-------------------+---------------------------------------------------------------------------+----------+-----------------------+-----------+--------------+\nonly showing top 10 rows\n\n"
    }
   ],
   "source": [
    "pageviews = sqlc.createDataFrame(pageviews_data, pageview_schema)\n",
    "pageviews.select('*').show(10, False)"
   ]
  },
  {
   "cell_type": "code",
   "execution_count": null,
   "metadata": {},
   "outputs": [],
   "source": [
    "RE_MASK = '(.*) - \\[(.*)\\] \"(.*)\" ([0-9]*) (.*) \\| (.*): (.*) \\| (.*): (http://www.facebook.com|http://google.com.br)'\n",
    "\n",
    "re_result = re.compile(RE_MASK).match(test3)\n",
    "\n",
    "re_result.groups()\n",
    "\n",
    "data = datetime.strptime(re_result.group(2),\"%Y-%m-%d %H:%M:%S\")\n",
    "print(type(data))"
   ]
  },
  {
   "cell_type": "code",
   "execution_count": null,
   "metadata": {},
   "outputs": [],
   "source": []
  }
 ]
}