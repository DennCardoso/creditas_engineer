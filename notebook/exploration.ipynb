{
 "nbformat": 4,
 "nbformat_minor": 2,
 "metadata": {
  "language_info": {
   "name": "python",
   "codemirror_mode": {
    "name": "ipython",
    "version": 3
   },
   "version": "3.7.6-final"
  },
  "orig_nbformat": 2,
  "file_extension": ".py",
  "mimetype": "text/x-python",
  "name": "python",
  "npconvert_exporter": "python",
  "pygments_lexer": "ipython3",
  "version": 3,
  "kernelspec": {
   "name": "python37664bittestpipelinecondaed5a294f86614f73a00cf1eb33fd1377",
   "display_name": "Python 3.7.6 64-bit ('test_pipeline': conda)"
  }
 },
 "cells": [
  {
   "cell_type": "code",
   "execution_count": 14,
   "metadata": {},
   "outputs": [],
   "source": [
    "import re\n",
    "from datetime import datetime\n",
    "from pyspark.sql import Window\n",
    "from pyspark.sql.types import *\n",
    "from pyspark.sql.functions import lit\n",
    "import pyspark.sql.functions as functions\n",
    "from pyspark.sql.functions import col\n",
    "from pyspark import SparkContext, SparkConf, SQLContext"
   ]
  },
  {
   "cell_type": "code",
   "execution_count": 3,
   "metadata": {},
   "outputs": [],
   "source": [
    "# Iniciar spark context\n",
    "conf = SparkConf().setMaster('local[*]')\n",
    "sc = SparkContext().getOrCreate(conf)\n",
    "sqlc =  SQLContext(sc)"
   ]
  },
  {
   "cell_type": "code",
   "execution_count": null,
   "metadata": {},
   "outputs": [],
   "source": [
    "#Função que retorna String a partir de uma data (ordinal)\n",
    "def str_date(input_date):\n",
    "        try:\n",
    "            return datetime.fromordinal(input_date).strftime('%d-%m-%Y')\n",
    "        except Exception as e:\n",
    "            return '01/01/1900'"
   ]
  },
  {
   "cell_type": "code",
   "execution_count": 223,
   "metadata": {},
   "outputs": [],
   "source": [
    "# Função para fazer parse dos dados de entrada\n",
    "def parseLog(data):\n",
    "        ''' Read and parse log data '''\n",
    "        RE_MASK = '(.*) - \\[(.*)\\] \"(.*)\" ([0-9]*) (.*) \\| (.*): (.*) \\| (.*): (http://www.facebook.com|http://google.com.br)'\n",
    "\n",
    "        try:\n",
    "            re_result = re.compile(RE_MASK).match(data)\n",
    "            host = re_result.group(1)\n",
    "            dateview = datetime.strptime(re_result.group(2), \"%Y-%m-%d %H:%M:%S\").date()\n",
    "            page_url = re_result.group(5)\n",
    "            device_id = str(re_result.group(7))\n",
    "            referer = str(re_result.group(9))\n",
    "            \n",
    "            try:\n",
    "                if referer==\"http://www.facebook.com\":\n",
    "                    campaign_id = re.search('campaign_id=?([0-9]*)', re_result.group(5)).group(1)\n",
    "                elif referer==\"http://google.com.br\":\n",
    "                    campaign_id = re.search('campaign_id=([0-9]*)', re_result.group(5)).group(1)\n",
    "            \n",
    "            except AttributeError as e:\n",
    "                campaign_id = 0\n",
    "\n",
    "            try:\n",
    "                if referer==\"http://www.facebook.com\":\n",
    "                    ad_creative_id=0\n",
    "                elif referer==\"http://google.com.br\":\n",
    "                    ad_creative_id = re.search('ad_creative_id=([0-9]*)', re_result.group(5)).group(1)\n",
    "        \n",
    "            except AttributeError as e:\n",
    "                ad_creative_id = 0\n",
    "        \n",
    "            return host, dateview, page_url, device_id, referer, campaign_id, ad_creative_id\n",
    "        \n",
    "        except Exception as e:\n",
    "            return '', -1, '', -1, -1"
   ]
  },
  {
   "cell_type": "code",
   "execution_count": 224,
   "metadata": {},
   "outputs": [
    {
     "name": "stdout",
     "output_type": "stream",
     "text": "('100.43.243.32', '2018-10-01 02:45:40', 'GET / HTTP/1.1', '200', 'http://www.creditas.com.br', 'device_id', '6TZNq4IEXL', 'referer', 'http://google.com.br')\n"
    }
   ],
   "source": [
    "RE_MASK = '(.*) - \\[(.*)\\] \"(.*)\" ([0-9]*) (.*) \\| (.*): (.*) \\| (.*): (http://www.facebook.com|http://google.com.br)'\n",
    "m = re.compile(RE_MASK).match(test5)\n",
    "\n",
    "print(m.groups())\n",
    "\n",
    "# 169.252.180.145 - [2018-10-01 00:00:00] \"GET / HTTP/1.1\" 200 http://www.creditas.com.br/emprestimo?campaign_id=3004 | device_id: g7DDoCqp9V | referer: http://www.facebook.com"
   ]
  },
  {
   "cell_type": "code",
   "execution_count": 227,
   "metadata": {},
   "outputs": [
    {
     "name": "stdout",
     "output_type": "stream",
     "text": "\n-1\n\n-1\n-1\n"
    }
   ],
   "source": [
    "test2 = '172.168.121.39 - [2018-10-01 00:00:31] \"GET / HTTP/1.1\" 200 http://www.creditas.com.br/emprestimo | device_id: g7DDoCqp9V | referer: http://www.facebook.com'\n",
    "test3 = '198.220.64.132 - [2018-10-01 00:20:00] \"GET / HTTP/1.1\" 200 http://www.creditas.com.br/conversion?ad_creative_id=20005&campaign_id=1004 | device_id: etkkhNRp99 | referer: http://google.com.br'\n",
    "test4 = '203.3.193.9 - [2018-10-01 02:30:07] \"GET / HTTP/1.1\" 200 http://www.creditas.com.br/emprestimo | device_id: 0ORagCcwX1 | referer: http://google.com.br'\n",
    "test5 = '100.43.243.32 - [2018-10-01 02:45:40] \"GET / HTTP/1.1\" 200 http://www.creditas.com.br | device_id: 6TZNq4IEXL | referer: http://google.com.br'\n",
    "test6 = '169.250.30.255 - [2018-10-01 03:00:52] \"GET / HTTP/1.1\" 200 http://www.bankfacil.com.br/emprestimo-com-garantia | device_id: wGN1Jw6o5S | referer: https://teixeira.com/'\n",
    "\n",
    "result = parseLog(test6)\n",
    "for i in result:\n",
    "    print(i)"
   ]
  },
  {
   "cell_type": "code",
   "execution_count": 151,
   "metadata": {},
   "outputs": [
    {
     "name": "stdout",
     "output_type": "stream",
     "text": "203.3.193.9\n2018-10-01 02:30:07\nGET / HTTP/1.1\n200\nhttp://www.creditas.com.br/emprestimo\ndevice_id\n0ORagCcwX1\nreferer\nhttp://google.com.br\n"
    }
   ],
   "source": [
    "RE_MASK = '(.*) - \\[(.*)\\] \"(.*)\" ([0-9]*) (.*) \\| (.*): (.*) \\| (.*): (.*)'\n",
    "m = re.compile(RE_MASK).match(test4)\n",
    "#campaign = re.search('campaign_id=([0-9]*)', m.group(5)).group(1)\n",
    "\n",
    "\n",
    "for i in range (1,10):\n",
    "    print(m.group(i))"
   ]
  },
  {
   "cell_type": "code",
   "execution_count": 4,
   "metadata": {},
   "outputs": [],
   "source": [
    "# Declaração do Schema de dados a ser utilizado\n",
    "schema = StructType([StructField('host',StringType(), True),StructField('timestamp',IntegerType(), True),StructField('request',StringType(), True),StructField('http_code',IntegerType(), True), StructField('total_bytes',IntegerType(), True)])"
   ]
  },
  {
   "cell_type": "code",
   "execution_count": 5,
   "metadata": {},
   "outputs": [],
   "source": [
    "# Create dataframes - Facebook\n",
    "facebook_ads = sqlc.read.json('../data/datasets/facebook_ads_media_costs.jsonl').select(col('clicks'), col('cost'), col('date'), col('facebook_campaign_id').alias('campaign_id'), col('facebook_campaign_name').alias('campaign_name'), col('impressions'))\n",
    "facebook_ads= facebook_ads.withColumn('ad_creative_id', lit(0)).withColumn('ad_creative_name', lit(None).cast(StringType())).withColumn('source', lit(str('facebook')))\n",
    "\n",
    "# Create dataframes - google\n",
    "google_ads = sqlc.read.json('../data/datasets/google_ads_media_costs.jsonl').select(col('clicks'), col('cost'), col('date'), col('google_campaign_id').alias('campaign_id'), col('google_campaign_name').alias('campaign_name'), col('impressions'), col('ad_creative_id'), col('ad_creative_name'))\n",
    "google_ads = google_ads.withColumn('source', lit(str('google')))\n",
    "\n",
    "# Merge Google and Facebook into a unique Dataframe\n",
    "media_ads = google_ads.union(facebook_ads)"
   ]
  },
  {
   "cell_type": "code",
   "execution_count": 6,
   "metadata": {},
   "outputs": [
    {
     "name": "stdout",
     "output_type": "stream",
     "text": "+------+-----+----------+-----------+--------------------+-----------+--------------+--------------------+------+\n|clicks| cost|      date|campaign_id|       campaign_name|impressions|ad_creative_id|    ad_creative_name|source|\n+------+-----+----------+-----------+--------------------+-----------+--------------+--------------------+------+\n|3358.5|19.02|2018-10-01|       1001|emprestimo_garant...|     157767|         20001|homem_sorrindo_fu...|google|\n|2071.0|30.62|2018-10-01|       1001|emprestimo_garant...|     176313|         20002|homem_sorrindo_fu...|google|\n+------+-----+----------+-----------+--------------------+-----------+--------------+--------------------+------+\nonly showing top 2 rows\n\n"
    }
   ],
   "source": [
    "google_ads.select('*').show(2, True)"
   ]
  },
  {
   "cell_type": "code",
   "execution_count": 7,
   "metadata": {},
   "outputs": [],
   "source": [
    "# Create Schema for Customer Leads\n",
    "schema = StructType([StructField(\"device_id\", StringType(), True), StructField(\"lead_id\", IntegerType(), True), StructField(\"registered_at\", TimestampType(), True), StructField(\"credit_decision\", StringType(), True), StructField(\"credit_decision_at\", TimestampType(), True), StructField(\"signed_at\", TimestampType(), True), StructField(\"revenue\", FloatType(), True)])\n",
    "\n",
    "# Create dataframe - Customer_leads\n",
    "customer_leads = sqlc.read.load(\"../data/datasets/customer_leads_funnel.csv\", header=False, format='com.databricks.spark.csv', schema=schema)"
   ]
  },
  {
   "cell_type": "code",
   "execution_count": 8,
   "metadata": {},
   "outputs": [
    {
     "name": "stdout",
     "output_type": "stream",
     "text": "+----------+---------+-------------------+---------------+-------------------+-------------------+-------+\n| device_id|  lead_id|      registered_at|credit_decision| credit_decision_at|          signed_at|revenue|\n+----------+---------+-------------------+---------------+-------------------+-------------------+-------+\n|1mJbSWeKdu|297280519|2018-10-01 01:32:37|              A|2018-10-04 07:40:37|2018-10-08 12:01:37| 215.43|\n|06Of3vYqPw|507403293|2018-10-01 03:45:55|              A|2018-10-06 15:55:55|2018-10-09 09:58:55| 106.48|\n+----------+---------+-------------------+---------------+-------------------+-------------------+-------+\nonly showing top 2 rows\n\n+----------+---------+--------------------+---------------+--------------------+---------+-------+\n| device_id|  lead_id|       registered_at|credit_decision|  credit_decision_at|signed_at|revenue|\n+----------+---------+--------------------+---------------+--------------------+---------+-------+\n|qna4WIdKs6|570283707| 2018-10-01 04:15:52|              D| 2018-10-07 15:28:52|     null|   null|\n|2wnNIUKgnI|614958621| 2018-10-01 04:31:31|              D| 2018-10-01 22:46:31|     null|   null|\n|RbKXKiXi26|193490219| 2018-10-01 05:30:20|              D| 2018-10-04 08:54:20|     null|   null|\n|7FUJhdIn76|349467285|2018-10-01 06:16:...|              A|2018-10-07 23:33:...|     null|   null|\n|JZLJcUtuk2|500319262| 2018-10-01 06:13:32|              D| 2018-10-05 00:12:32|     null|   null|\n|r7Cnah3m39|400540892| 2018-10-01 06:26:54|              D| 2018-10-08 01:00:54|     null|   null|\n|9jjT8NWvsu|157573014| 2018-10-01 06:36:59|              D| 2018-10-02 22:04:59|     null|   null|\n|uKKrBC8q4B|285672550|2018-10-01 07:07:...|              D|2018-10-03 00:50:...|     null|   null|\n|bS61JbhbZ2|351633608|2018-10-01 07:13:...|              D|2018-10-03 19:13:...|     null|   null|\n|KlCzUgTJ9A|565623217|2018-10-01 07:16:...|              D|2018-10-01 12:24:...|     null|   null|\n|TI6U1sdI7N|509009545|2018-10-01 07:22:...|              A|2018-10-06 17:41:...|     null|   null|\n|thXGsMRrz2|150541456|2018-10-01 07:32:...|              D|2018-10-08 03:20:...|     null|   null|\n|H6jKxCTgAC|781698345|2018-10-01 07:32:...|              D|2018-10-04 10:09:...|     null|   null|\n|0jPhbiD4aT|440338496|2018-10-01 07:35:...|              D|2018-10-02 18:10:...|     null|   null|\n|M0nnq4e12L|808349449|2018-10-01 07:37:...|              D|2018-10-03 14:05:...|     null|   null|\n|ZY4RAkLd2m|269064876|2018-10-01 07:38:...|              D|2018-10-06 10:58:...|     null|   null|\n|d5JZR2iTHH|309869727|2018-10-01 07:40:...|              D|2018-10-03 22:29:...|     null|   null|\n|eJ5Cyckf80|527424020|2018-10-01 07:42:...|              D|2018-10-02 02:47:...|     null|   null|\n|fMK7jmh06i|890100755|2018-10-01 07:41:...|              D|2018-10-05 07:05:...|     null|   null|\n|y6AvJOaUmI|103505582|2018-10-01 07:42:...|              D|2018-10-05 21:59:...|     null|   null|\n+----------+---------+--------------------+---------------+--------------------+---------+-------+\nonly showing top 20 rows\n\n"
    }
   ],
   "source": [
    "customer_leads.select('*').show(2, True)\n",
    "customer_leads.select('*').where(col('signed_at').isNull()).show()"
   ]
  },
  {
   "cell_type": "code",
   "execution_count": 9,
   "metadata": {},
   "outputs": [
    {
     "name": "stdout",
     "output_type": "stream",
     "text": "+----------+---------+-------------------+---------------+-------------------+-------------------+-------+\n| device_id|  lead_id|      registered_at|credit_decision| credit_decision_at|          signed_at|revenue|\n+----------+---------+-------------------+---------------+-------------------+-------------------+-------+\n|1mJbSWeKdu|297280519|2018-10-01 01:32:37|              A|2018-10-04 07:40:37|2018-10-08 12:01:37| 215.43|\n|06Of3vYqPw|507403293|2018-10-01 03:45:55|              A|2018-10-06 15:55:55|2018-10-09 09:58:55| 106.48|\n+----------+---------+-------------------+---------------+-------------------+-------------------+-------+\nonly showing top 2 rows\n\n"
    }
   ],
   "source": [
    "customer_leads.show(2, True)"
   ]
  },
  {
   "cell_type": "code",
   "execution_count": 10,
   "metadata": {},
   "outputs": [
    {
     "name": "stdout",
     "output_type": "stream",
     "text": "+------+-----+----------+-----------+--------------------+-----------+--------------+--------------------+------+\n|clicks| cost|      date|campaign_id|       campaign_name|impressions|ad_creative_id|    ad_creative_name|source|\n+------+-----+----------+-----------+--------------------+-----------+--------------+--------------------+------+\n|4545.0|16.19|2018-10-01|       1002|creditas|auto|nat...|     101916|         20001|homem_sorrindo_fu...|google|\n+------+-----+----------+-----------+--------------------+-----------+--------------+--------------------+------+\nonly showing top 1 row\n\n"
    }
   ],
   "source": [
    "media_ads.select('*').select(\"*\").where(col('campaign_id')==1002).show(1, True)"
   ]
  },
  {
   "cell_type": "code",
   "execution_count": 12,
   "metadata": {},
   "outputs": [
    {
     "name": "stdout",
     "output_type": "stream",
     "text": "+------+-----+----------+-----------+--------------------+-----------+--------------+--------------------+------+\n|clicks| cost|      date|campaign_id|       campaign_name|impressions|ad_creative_id|    ad_creative_name|source|\n+------+-----+----------+-----------+--------------------+-----------+--------------+--------------------+------+\n|3358.5|19.02|2018-10-01|       1001|emprestimo_garant...|     157767|         20001|homem_sorrindo_fu...|google|\n|2071.0|30.62|2018-10-01|       1001|emprestimo_garant...|     176313|         20002|homem_sorrindo_fu...|google|\n+------+-----+----------+-----------+--------------------+-----------+--------------+--------------------+------+\nonly showing top 2 rows\n\n"
    }
   ],
   "source": [
    "media_ads.select('*').show(2, True)"
   ]
  },
  {
   "cell_type": "code",
   "execution_count": 13,
   "metadata": {},
   "outputs": [
    {
     "name": "stdout",
     "output_type": "stream",
     "text": "169.252.180.145 - [2018-10-01 00:00:00] \"GET / HTTP/1.1\" 200 http://www.creditas.com.br/emprestimo?campaign_id=3004 | device_id: g7DDoCqp9V | referer: http://www.facebook.com\n"
    }
   ],
   "source": [
    "# Create Structure for pageviews\n",
    "pageviews = sc.textFile('../data/datasets/pageview.txt')\n",
    "test = pageviews.first()\n",
    "print(test)"
   ]
  },
  {
   "cell_type": "code",
   "execution_count": 15,
   "metadata": {},
   "outputs": [
    {
     "name": "stdout",
     "output_type": "stream",
     "text": "169.252.180.145\n2018-10-01 00:00:00\nGET / HTTP/1.1\n200\nhttp://www.creditas.com.br/emprestimo?campaign_id=3004\ndevice_id\ng7DDoCqp9V\nreferer\nhttp://www.facebook.com\n"
    }
   ],
   "source": [
    "RE_MASK = '(.*) - \\[(.*)\\] \"(.*)\" ([0-9]*) (.*) \\| (.*): (.*) \\| (.*): (.*)'\n",
    "\n",
    "m = re.compile(RE_MASK).match(test)\n",
    "\n",
    "campaign = re.search('campaign_id=?([0-9]*)', m.group(5))\n",
    "\n",
    "#print(campaign.group(1))\n",
    "\n",
    "for i in range (1,10):\n",
    "    print(m.group(i))"
   ]
  },
  {
   "cell_type": "code",
   "execution_count": null,
   "metadata": {},
   "outputs": [],
   "source": [
    " RE_MASK = '(.*) - - \\[(.*):(.*):(.*):(.*)\\] \"(.*)\" ([0-9]*) ([0-9]*|-)'"
   ]
  }
 ]
}