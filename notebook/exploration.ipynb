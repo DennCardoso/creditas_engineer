{
 "nbformat": 4,
 "nbformat_minor": 2,
 "metadata": {
  "language_info": {
   "name": "python",
   "codemirror_mode": {
    "name": "ipython",
    "version": 3
   },
   "version": "3.7.6-final"
  },
  "orig_nbformat": 2,
  "file_extension": ".py",
  "mimetype": "text/x-python",
  "name": "python",
  "npconvert_exporter": "python",
  "pygments_lexer": "ipython3",
  "version": 3,
  "kernelspec": {
   "name": "python37664bittestpipelinecondaed5a294f86614f73a00cf1eb33fd1377",
   "display_name": "Python 3.7.6 64-bit ('test_pipeline': conda)"
  }
 },
 "cells": [
  {
   "cell_type": "code",
   "execution_count": 40,
   "metadata": {},
   "outputs": [],
   "source": [
    "import re\n",
    "from datetime import datetime\n",
    "from pyspark.sql import Window\n",
    "from pyspark.sql.types import *\n",
    "from pyspark.sql.functions import lit\n",
    "import pyspark.sql.functions as functions\n",
    "from pyspark.sql.functions import col\n",
    "from pyspark import SparkContext, SparkConf, SQLContext"
   ]
  },
  {
   "cell_type": "code",
   "execution_count": 2,
   "metadata": {},
   "outputs": [],
   "source": [
    "# Iniciar spark context\n",
    "conf = SparkConf().setMaster('local[*]')\n",
    "sc = SparkContext().getOrCreate(conf)\n",
    "sqlc =  SQLContext(sc)"
   ]
  },
  {
   "cell_type": "code",
   "execution_count": 3,
   "metadata": {},
   "outputs": [],
   "source": [
    "#Função que retorna String a partir de uma data (ordinal)\n",
    "def str_date(input_date):\n",
    "        try:\n",
    "            return datetime.fromordinal(input_date).strftime('%d-%m-%Y')\n",
    "        except Exception as e:\n",
    "            return '01/01/1900'"
   ]
  },
  {
   "cell_type": "code",
   "execution_count": 4,
   "metadata": {},
   "outputs": [],
   "source": [
    "# Função para fazer parse dos dados de entrada\n",
    "def parseLog(data):\n",
    "        ''' Read and parse log data '''\n",
    "        RE_MASK = '(.*) - - \\[(.*):(.*):(.*):(.*)\\] \"(.*)\" ([0-9]*) ([0-9]*|-)'\n",
    "\n",
    "        try:\n",
    "            re_result = re.compile(RE_MASK).match(data)\n",
    "            host = re_result.group(1)\n",
    "            ord_day = datetime.strptime(re_result.group(2), '%d/%b/%Y').toordinal()\n",
    "            req = re_result.group(6)\n",
    "            reply_code = int(re_result.group(7))\n",
    "            \n",
    "            try:\n",
    "                reply_bytes = int(re_result.group(8))\n",
    "            except ValueError as e:\n",
    "                reply_bytes = 0\n",
    "            return host, ord_day, req, reply_code, reply_bytes\n",
    "        \n",
    "        except Exception as e:\n",
    "            return '', -1, '', -1, -1"
   ]
  },
  {
   "cell_type": "code",
   "execution_count": 5,
   "metadata": {},
   "outputs": [],
   "source": [
    "# Declaração do Schema de dados a ser utilizado\n",
    "schema = StructType([StructField('host',StringType(), True),StructField('timestamp',IntegerType(), True),StructField('request',StringType(), True),StructField('http_code',IntegerType(), True), StructField('total_bytes',IntegerType(), True)])"
   ]
  },
  {
   "cell_type": "code",
   "execution_count": 8,
   "metadata": {},
   "outputs": [
    {
     "data": {
      "text/plain": "b'/Users/denniscardoso/Projects/cred_test/creditas_engineer/notebook'"
     },
     "execution_count": 8,
     "metadata": {},
     "output_type": "execute_result"
    }
   ],
   "source": [
    "import os\n",
    "os.getcwdb()"
   ]
  },
  {
   "cell_type": "code",
   "execution_count": 82,
   "metadata": {},
   "outputs": [],
   "source": [
    "# Create dataframes - Facebook\n",
    "facebook_ads = sqlc.read.json('../data/datasets/facebook_ads_media_costs.jsonl').select(col('clicks'), col('cost'), col('date'), col('facebook_campaign_id').alias('campaign_id'), col('facebook_campaign_name').alias('campaign_name'), col('impressions'))\n",
    "facebook_ads= facebook_ads.withColumn('ad_creative_id', lit(0)).withColumn('ad_creative_name', lit(None).cast(StringType())).withColumn('source', lit(str('facebook')))\n",
    "\n",
    "# Create dataframes - google\n",
    "google_ads = sqlc.read.json('../data/datasets/google_ads_media_costs.jsonl').select(col('clicks'), col('cost'), col('date'), col('google_campaign_id').alias('campaign_id'), col('google_campaign_name').alias('campaign_name'), col('impressions'), col('ad_creative_id'), col('ad_creative_name'))\n",
    "google_ads = google_ads.withColumn('source', lit(str('google')))\n",
    "\n",
    "# Merge Google and Facebook into a unique Dataframe\n",
    "media_ads = google_ads.union(facebook_ads)"
   ]
  },
  {
   "cell_type": "code",
   "execution_count": 52,
   "metadata": {},
   "outputs": [
    {
     "name": "stdout",
     "output_type": "stream",
     "text": "+------+-----+----------+-----------+--------------------+-----------+--------------+--------------------+------+\n|clicks| cost|      date|campaign_id|       campaign_name|impressions|ad_creative_id|    ad_creative_name|source|\n+------+-----+----------+-----------+--------------------+-----------+--------------+--------------------+------+\n|3358.5|19.02|2018-10-01|       1001|emprestimo_garant...|     157767|         20001|homem_sorrindo_fu...|google|\n|2071.0|30.62|2018-10-01|       1001|emprestimo_garant...|     176313|         20002|homem_sorrindo_fu...|google|\n+------+-----+----------+-----------+--------------------+-----------+--------------+--------------------+------+\nonly showing top 2 rows\n\n"
    }
   ],
   "source": [
    "google_ads.select('*').show(2, True)"
   ]
  },
  {
   "cell_type": "code",
   "execution_count": 89,
   "metadata": {},
   "outputs": [],
   "source": [
    "# Create Schema for Customer Leads\n",
    "schema = StructType([StructField(\"device_id\", StringType(), True), StructField(\"lead_id\", IntegerType(), True), StructField(\"registered_at\", TimestampType(), True), StructField(\"credit_decision\", StringType(), True), StructField(\"credit_decision_at\", TimestampType(), True), StructField(\"signed_at\", TimestampType(), True), StructField(\"revenue\", FloatType(), True)])\n",
    "\n",
    "# Create dataframe - Customer_leads\n",
    "customer_leads = sqlc.read.load(\"../data/datasets/customer_leads_funnel.csv\", header=False, format='com.databricks.spark.csv', schema=schema)"
   ]
  },
  {
   "cell_type": "code",
   "execution_count": 91,
   "metadata": {},
   "outputs": [
    {
     "name": "stdout",
     "output_type": "stream",
     "text": "+----------+---------+-------------------+---------------+-------------------+-------------------+-------+\n| device_id|  lead_id|      registered_at|credit_decision| credit_decision_at|          signed_at|revenue|\n+----------+---------+-------------------+---------------+-------------------+-------------------+-------+\n|1mJbSWeKdu|297280519|2018-10-01 01:32:37|              A|2018-10-04 07:40:37|2018-10-08 12:01:37| 215.43|\n|06Of3vYqPw|507403293|2018-10-01 03:45:55|              A|2018-10-06 15:55:55|2018-10-09 09:58:55| 106.48|\n+----------+---------+-------------------+---------------+-------------------+-------------------+-------+\nonly showing top 2 rows\n\nroot\n |-- device_id: string (nullable = true)\n |-- lead_id: integer (nullable = true)\n |-- registered_at: timestamp (nullable = true)\n |-- credit_decision: string (nullable = true)\n |-- credit_decision_at: timestamp (nullable = true)\n |-- signed_at: timestamp (nullable = true)\n |-- revenue: float (nullable = true)\n\n"
    }
   ],
   "source": [
    "customer_leads.select('*').show(2, True)\n",
    "customer_leads.printSchema()"
   ]
  },
  {
   "cell_type": "code",
   "execution_count": 32,
   "metadata": {},
   "outputs": [
    {
     "name": "stdout",
     "output_type": "stream",
     "text": "+----------+---------+-------------------+---+-------------------+-------------------+------+\n|       _c0|      _c1|                _c2|_c3|                _c4|                _c5|   _c6|\n+----------+---------+-------------------+---+-------------------+-------------------+------+\n|1mJbSWeKdu|297280519|2018-10-01 01:32:37|  A|2018-10-04 07:40:37|2018-10-08 12:01:37|215.43|\n|06Of3vYqPw|507403293|2018-10-01 03:45:55|  A|2018-10-06 15:55:55|2018-10-09 09:58:55|106.48|\n+----------+---------+-------------------+---+-------------------+-------------------+------+\nonly showing top 2 rows\n\n"
    }
   ],
   "source": [
    "customer_leads.show(2, True)"
   ]
  },
  {
   "cell_type": "code",
   "execution_count": 78,
   "metadata": {},
   "outputs": [
    {
     "name": "stdout",
     "output_type": "stream",
     "text": "+------+-----+----------+-----------+--------------------+-----------+--------------+--------------------+------+\n|clicks| cost|      date|campaign_id|       campaign_name|impressions|ad_creative_id|    ad_creative_name|source|\n+------+-----+----------+-----------+--------------------+-----------+--------------+--------------------+------+\n|4545.0|16.19|2018-10-01|       1002|creditas|auto|nat...|     101916|         20001|homem_sorrindo_fu...|google|\n+------+-----+----------+-----------+--------------------+-----------+--------------+--------------------+------+\nonly showing top 1 row\n\n"
    }
   ],
   "source": [
    "media_ads.select('*').select(\"*\").where(col('campaign_id')==1002).show(1, True)"
   ]
  },
  {
   "cell_type": "code",
   "execution_count": 85,
   "metadata": {},
   "outputs": [
    {
     "name": "stdout",
     "output_type": "stream",
     "text": "root\n |-- _c0: string (nullable = true)\n |-- _c1: integer (nullable = true)\n |-- _c2: timestamp (nullable = true)\n |-- _c3: string (nullable = true)\n |-- _c4: timestamp (nullable = true)\n |-- _c5: timestamp (nullable = true)\n |-- _c6: double (nullable = true)\n\n"
    }
   ],
   "source": [
    "customer_leads.printSchema()"
   ]
  },
  {
   "cell_type": "code",
   "execution_count": null,
   "metadata": {},
   "outputs": [],
   "source": []
  }
 ]
}